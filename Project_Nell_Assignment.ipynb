{
  "nbformat": 4,
  "nbformat_minor": 0,
  "metadata": {
    "colab": {
      "name": "Project Nell Assignment.ipynb",
      "provenance": [],
      "authorship_tag": "ABX9TyODvtYVlOqMb/urI2CTtjJl",
      "include_colab_link": true
    },
    "kernelspec": {
      "name": "python3",
      "display_name": "Python 3"
    }
  },
  "cells": [
    {
      "cell_type": "markdown",
      "metadata": {
        "id": "view-in-github",
        "colab_type": "text"
      },
      "source": [
        "<a href=\"https://colab.research.google.com/github/chelseykim/chelseykim/blob/main/Project_Nell_Assignment.ipynb\" target=\"_parent\"><img src=\"https://colab.research.google.com/assets/colab-badge.svg\" alt=\"Open In Colab\"/></a>"
      ]
    },
    {
      "cell_type": "markdown",
      "metadata": {
        "id": "AxaXHyn0vRJX"
      },
      "source": [
        "# **Project Nell Assignmnet**\n",
        "Chelsey Kim\n",
        "\n",
        "October 7th, 2020"
      ]
    },
    {
      "cell_type": "markdown",
      "metadata": {
        "id": "2KubyobqzxEi"
      },
      "source": [
        "**1. What is the difference between a pandas Series and a DataFrame?**"
      ]
    },
    {
      "cell_type": "markdown",
      "metadata": {
        "id": "EzwU3kgz0BqM"
      },
      "source": [
        "A Pandas Series is a one-dimensional label array capale of holding data of any type. A Pandas Dataframe is two-dimensional labeled data structures with columns of potentially different types. Dataframes give you the option to pass indexes and columns to get row labels and column labels. A series is the data structure for a single column of Dataframes."
      ]
    },
    {
      "cell_type": "markdown",
      "metadata": {
        "id": "M26YHu6S_H3r"
      },
      "source": [
        "**2. Create a sample DataFrame and write a line of code for a quick statistic summary of you data in a Dataframe**"
      ]
    },
    {
      "cell_type": "code",
      "metadata": {
        "id": "e6r8Yz87_SE2"
      },
      "source": [
        "import numpy as np\n",
        "import pandas as pd"
      ],
      "execution_count": 2,
      "outputs": []
    },
    {
      "cell_type": "code",
      "metadata": {
        "id": "rSYMiEyI_bTN",
        "outputId": "846b7822-62fa-4f39-beec-12298fc59c21",
        "colab": {
          "base_uri": "https://localhost:8080/",
          "height": 173
        }
      },
      "source": [
        "idx= pd.Index(['Atlanta', 'New York City', 'Boston', 'Chicago'])\n",
        "df= pd.DataFrame({'State': ['Georiga', 'New York', 'Massachusetts', 'Illinois'],\n",
        "                  'Population':[523738, 18804000, 4309000, 8865000],\n",
        "                  'Size in miles squared' :[136.8,302.6,89.63,234.]}, index=idx)\n",
        "df"
      ],
      "execution_count": null,
      "outputs": [
        {
          "output_type": "execute_result",
          "data": {
            "text/html": [
              "<div>\n",
              "<style scoped>\n",
              "    .dataframe tbody tr th:only-of-type {\n",
              "        vertical-align: middle;\n",
              "    }\n",
              "\n",
              "    .dataframe tbody tr th {\n",
              "        vertical-align: top;\n",
              "    }\n",
              "\n",
              "    .dataframe thead th {\n",
              "        text-align: right;\n",
              "    }\n",
              "</style>\n",
              "<table border=\"1\" class=\"dataframe\">\n",
              "  <thead>\n",
              "    <tr style=\"text-align: right;\">\n",
              "      <th></th>\n",
              "      <th>State</th>\n",
              "      <th>Population</th>\n",
              "      <th>Size in miles squared</th>\n",
              "    </tr>\n",
              "  </thead>\n",
              "  <tbody>\n",
              "    <tr>\n",
              "      <th>Atlanta</th>\n",
              "      <td>Georiga</td>\n",
              "      <td>523738</td>\n",
              "      <td>136.80</td>\n",
              "    </tr>\n",
              "    <tr>\n",
              "      <th>New York City</th>\n",
              "      <td>New York</td>\n",
              "      <td>18804000</td>\n",
              "      <td>302.60</td>\n",
              "    </tr>\n",
              "    <tr>\n",
              "      <th>Boston</th>\n",
              "      <td>Massachusetts</td>\n",
              "      <td>4309000</td>\n",
              "      <td>89.63</td>\n",
              "    </tr>\n",
              "    <tr>\n",
              "      <th>Chicago</th>\n",
              "      <td>Illinois</td>\n",
              "      <td>8865000</td>\n",
              "      <td>234.00</td>\n",
              "    </tr>\n",
              "  </tbody>\n",
              "</table>\n",
              "</div>"
            ],
            "text/plain": [
              "                       State  Population  Size in miles squared\n",
              "Atlanta              Georiga      523738                 136.80\n",
              "New York City       New York    18804000                 302.60\n",
              "Boston         Massachusetts     4309000                  89.63\n",
              "Chicago             Illinois     8865000                 234.00"
            ]
          },
          "metadata": {
            "tags": []
          },
          "execution_count": 207
        }
      ]
    },
    {
      "cell_type": "code",
      "metadata": {
        "id": "YhUQLqsPCszy",
        "outputId": "aacc7ec3-dcdd-4b3e-db8c-2234ca065a2e",
        "colab": {
          "base_uri": "https://localhost:8080/",
          "height": 297
        }
      },
      "source": [
        "df.describe()"
      ],
      "execution_count": null,
      "outputs": [
        {
          "output_type": "execute_result",
          "data": {
            "text/html": [
              "<div>\n",
              "<style scoped>\n",
              "    .dataframe tbody tr th:only-of-type {\n",
              "        vertical-align: middle;\n",
              "    }\n",
              "\n",
              "    .dataframe tbody tr th {\n",
              "        vertical-align: top;\n",
              "    }\n",
              "\n",
              "    .dataframe thead th {\n",
              "        text-align: right;\n",
              "    }\n",
              "</style>\n",
              "<table border=\"1\" class=\"dataframe\">\n",
              "  <thead>\n",
              "    <tr style=\"text-align: right;\">\n",
              "      <th></th>\n",
              "      <th>Population</th>\n",
              "      <th>Size in miles squared</th>\n",
              "    </tr>\n",
              "  </thead>\n",
              "  <tbody>\n",
              "    <tr>\n",
              "      <th>count</th>\n",
              "      <td>4.000000e+00</td>\n",
              "      <td>4.000000</td>\n",
              "    </tr>\n",
              "    <tr>\n",
              "      <th>mean</th>\n",
              "      <td>8.125434e+06</td>\n",
              "      <td>190.757500</td>\n",
              "    </tr>\n",
              "    <tr>\n",
              "      <th>std</th>\n",
              "      <td>7.893662e+06</td>\n",
              "      <td>95.772024</td>\n",
              "    </tr>\n",
              "    <tr>\n",
              "      <th>min</th>\n",
              "      <td>5.237380e+05</td>\n",
              "      <td>89.630000</td>\n",
              "    </tr>\n",
              "    <tr>\n",
              "      <th>25%</th>\n",
              "      <td>3.362684e+06</td>\n",
              "      <td>125.007500</td>\n",
              "    </tr>\n",
              "    <tr>\n",
              "      <th>50%</th>\n",
              "      <td>6.587000e+06</td>\n",
              "      <td>185.400000</td>\n",
              "    </tr>\n",
              "    <tr>\n",
              "      <th>75%</th>\n",
              "      <td>1.134975e+07</td>\n",
              "      <td>251.150000</td>\n",
              "    </tr>\n",
              "    <tr>\n",
              "      <th>max</th>\n",
              "      <td>1.880400e+07</td>\n",
              "      <td>302.600000</td>\n",
              "    </tr>\n",
              "  </tbody>\n",
              "</table>\n",
              "</div>"
            ],
            "text/plain": [
              "         Population  Size in miles squared\n",
              "count  4.000000e+00               4.000000\n",
              "mean   8.125434e+06             190.757500\n",
              "std    7.893662e+06              95.772024\n",
              "min    5.237380e+05              89.630000\n",
              "25%    3.362684e+06             125.007500\n",
              "50%    6.587000e+06             185.400000\n",
              "75%    1.134975e+07             251.150000\n",
              "max    1.880400e+07             302.600000"
            ]
          },
          "metadata": {
            "tags": []
          },
          "execution_count": 74
        }
      ]
    },
    {
      "cell_type": "markdown",
      "metadata": {
        "id": "ReCtbfXhCvpI"
      },
      "source": [
        "**3. What are the different ways of selecting elements of a DataFrame?**"
      ]
    },
    {
      "cell_type": "markdown",
      "metadata": {
        "id": "Z6fzhtOfD__o"
      },
      "source": [
        "There are four main types of operators we can use to select data in DataFrame:\n",
        "\n",
        "\n",
        "1.   The attribute operator **.**\n",
        "2.   The index operator **[]**\n",
        "3.   The **loc** operator\n",
        "4.   The **iloc** operator\n"
      ]
    },
    {
      "cell_type": "markdown",
      "metadata": {
        "id": "6kaY19LrFE-X"
      },
      "source": [
        "1. The attribute operator allows us to select a single column at a time\n"
      ]
    },
    {
      "cell_type": "code",
      "metadata": {
        "id": "ShZ40tg5FN1n",
        "outputId": "e7d95011-5305-404a-b2bd-e9dde2b65a9c",
        "colab": {
          "base_uri": "https://localhost:8080/"
        }
      },
      "source": [
        "df.Population"
      ],
      "execution_count": null,
      "outputs": [
        {
          "output_type": "execute_result",
          "data": {
            "text/plain": [
              "Atlanta            523738\n",
              "New York City    18804000\n",
              "Boston            4309000\n",
              "Chicago           8865000\n",
              "Name: Population, dtype: int64"
            ]
          },
          "metadata": {
            "tags": []
          },
          "execution_count": 75
        }
      ]
    },
    {
      "cell_type": "markdown",
      "metadata": {
        "id": "5zBdOZnmFM-3"
      },
      "source": [
        "2. The index operator allows us to select multiple columns at a time \n"
      ]
    },
    {
      "cell_type": "code",
      "metadata": {
        "id": "c9Y1_MoGFxZO",
        "outputId": "8346faf1-d229-41a7-c6ac-cd9cb62206a0",
        "colab": {
          "base_uri": "https://localhost:8080/",
          "height": 173
        }
      },
      "source": [
        "df[['State','Size in miles squared']]"
      ],
      "execution_count": null,
      "outputs": [
        {
          "output_type": "execute_result",
          "data": {
            "text/html": [
              "<div>\n",
              "<style scoped>\n",
              "    .dataframe tbody tr th:only-of-type {\n",
              "        vertical-align: middle;\n",
              "    }\n",
              "\n",
              "    .dataframe tbody tr th {\n",
              "        vertical-align: top;\n",
              "    }\n",
              "\n",
              "    .dataframe thead th {\n",
              "        text-align: right;\n",
              "    }\n",
              "</style>\n",
              "<table border=\"1\" class=\"dataframe\">\n",
              "  <thead>\n",
              "    <tr style=\"text-align: right;\">\n",
              "      <th></th>\n",
              "      <th>State</th>\n",
              "      <th>Size in miles squared</th>\n",
              "    </tr>\n",
              "  </thead>\n",
              "  <tbody>\n",
              "    <tr>\n",
              "      <th>Atlanta</th>\n",
              "      <td>Georiga</td>\n",
              "      <td>136.80</td>\n",
              "    </tr>\n",
              "    <tr>\n",
              "      <th>New York City</th>\n",
              "      <td>New York</td>\n",
              "      <td>302.60</td>\n",
              "    </tr>\n",
              "    <tr>\n",
              "      <th>Boston</th>\n",
              "      <td>Massachusetts</td>\n",
              "      <td>89.63</td>\n",
              "    </tr>\n",
              "    <tr>\n",
              "      <th>Chicago</th>\n",
              "      <td>Illinois</td>\n",
              "      <td>234.00</td>\n",
              "    </tr>\n",
              "  </tbody>\n",
              "</table>\n",
              "</div>"
            ],
            "text/plain": [
              "                       State  Size in miles squared\n",
              "Atlanta              Georiga                 136.80\n",
              "New York City       New York                 302.60\n",
              "Boston         Massachusetts                  89.63\n",
              "Chicago             Illinois                 234.00"
            ]
          },
          "metadata": {
            "tags": []
          },
          "execution_count": 82
        }
      ]
    },
    {
      "cell_type": "markdown",
      "metadata": {
        "id": "LRl5NWJUF4ZO"
      },
      "source": [
        "The index operator also allows us to select rows"
      ]
    },
    {
      "cell_type": "code",
      "metadata": {
        "id": "EGe9YXidF9TH",
        "outputId": "da3be23e-46b3-4539-92c6-51e91d97cee3",
        "colab": {
          "base_uri": "https://localhost:8080/",
          "height": 111
        }
      },
      "source": [
        "df[2:4]"
      ],
      "execution_count": null,
      "outputs": [
        {
          "output_type": "execute_result",
          "data": {
            "text/html": [
              "<div>\n",
              "<style scoped>\n",
              "    .dataframe tbody tr th:only-of-type {\n",
              "        vertical-align: middle;\n",
              "    }\n",
              "\n",
              "    .dataframe tbody tr th {\n",
              "        vertical-align: top;\n",
              "    }\n",
              "\n",
              "    .dataframe thead th {\n",
              "        text-align: right;\n",
              "    }\n",
              "</style>\n",
              "<table border=\"1\" class=\"dataframe\">\n",
              "  <thead>\n",
              "    <tr style=\"text-align: right;\">\n",
              "      <th></th>\n",
              "      <th>State</th>\n",
              "      <th>Population</th>\n",
              "      <th>Size in miles squared</th>\n",
              "    </tr>\n",
              "  </thead>\n",
              "  <tbody>\n",
              "    <tr>\n",
              "      <th>Boston</th>\n",
              "      <td>Massachusetts</td>\n",
              "      <td>4309000</td>\n",
              "      <td>89.63</td>\n",
              "    </tr>\n",
              "    <tr>\n",
              "      <th>Chicago</th>\n",
              "      <td>Illinois</td>\n",
              "      <td>8865000</td>\n",
              "      <td>234.00</td>\n",
              "    </tr>\n",
              "  </tbody>\n",
              "</table>\n",
              "</div>"
            ],
            "text/plain": [
              "                 State  Population  Size in miles squared\n",
              "Boston   Massachusetts     4309000                  89.63\n",
              "Chicago       Illinois     8865000                 234.00"
            ]
          },
          "metadata": {
            "tags": []
          },
          "execution_count": 83
        }
      ]
    },
    {
      "cell_type": "markdown",
      "metadata": {
        "id": "mWNoLbVWGGtB"
      },
      "source": [
        "3. The iloc operator allows us to slice both rows and columns "
      ]
    },
    {
      "cell_type": "code",
      "metadata": {
        "id": "7eEYiqelGGLq",
        "outputId": "a55135fe-2d7f-4daa-bcf9-5414491f2a0a",
        "colab": {
          "base_uri": "https://localhost:8080/",
          "height": 142
        }
      },
      "source": [
        "df.iloc[1:4, 1:3]"
      ],
      "execution_count": null,
      "outputs": [
        {
          "output_type": "execute_result",
          "data": {
            "text/html": [
              "<div>\n",
              "<style scoped>\n",
              "    .dataframe tbody tr th:only-of-type {\n",
              "        vertical-align: middle;\n",
              "    }\n",
              "\n",
              "    .dataframe tbody tr th {\n",
              "        vertical-align: top;\n",
              "    }\n",
              "\n",
              "    .dataframe thead th {\n",
              "        text-align: right;\n",
              "    }\n",
              "</style>\n",
              "<table border=\"1\" class=\"dataframe\">\n",
              "  <thead>\n",
              "    <tr style=\"text-align: right;\">\n",
              "      <th></th>\n",
              "      <th>Population</th>\n",
              "      <th>Size in miles squared</th>\n",
              "    </tr>\n",
              "  </thead>\n",
              "  <tbody>\n",
              "    <tr>\n",
              "      <th>New York City</th>\n",
              "      <td>18804000</td>\n",
              "      <td>302.60</td>\n",
              "    </tr>\n",
              "    <tr>\n",
              "      <th>Boston</th>\n",
              "      <td>4309000</td>\n",
              "      <td>89.63</td>\n",
              "    </tr>\n",
              "    <tr>\n",
              "      <th>Chicago</th>\n",
              "      <td>8865000</td>\n",
              "      <td>234.00</td>\n",
              "    </tr>\n",
              "  </tbody>\n",
              "</table>\n",
              "</div>"
            ],
            "text/plain": [
              "               Population  Size in miles squared\n",
              "New York City    18804000                 302.60\n",
              "Boston            4309000                  89.63\n",
              "Chicago           8865000                 234.00"
            ]
          },
          "metadata": {
            "tags": []
          },
          "execution_count": 86
        }
      ]
    },
    {
      "cell_type": "markdown",
      "metadata": {
        "id": "rJ02bXZaGlFz"
      },
      "source": [
        "4. The loc operator allows us to do the same thing as the iloc operator, except we refer to the rows and columns using the index labels and column names\n",
        "\n",
        "Example to get the same column and rows as above:"
      ]
    },
    {
      "cell_type": "code",
      "metadata": {
        "id": "ojR7ZvmbGyCP",
        "outputId": "f427a53c-37b7-4e1f-a189-57e4bf2c0188",
        "colab": {
          "base_uri": "https://localhost:8080/",
          "height": 142
        }
      },
      "source": [
        "df.loc['Atlanta':'Boston', 'Population' : \"Size in miles squared\"]"
      ],
      "execution_count": null,
      "outputs": [
        {
          "output_type": "execute_result",
          "data": {
            "text/html": [
              "<div>\n",
              "<style scoped>\n",
              "    .dataframe tbody tr th:only-of-type {\n",
              "        vertical-align: middle;\n",
              "    }\n",
              "\n",
              "    .dataframe tbody tr th {\n",
              "        vertical-align: top;\n",
              "    }\n",
              "\n",
              "    .dataframe thead th {\n",
              "        text-align: right;\n",
              "    }\n",
              "</style>\n",
              "<table border=\"1\" class=\"dataframe\">\n",
              "  <thead>\n",
              "    <tr style=\"text-align: right;\">\n",
              "      <th></th>\n",
              "      <th>Population</th>\n",
              "      <th>Size in miles squared</th>\n",
              "    </tr>\n",
              "  </thead>\n",
              "  <tbody>\n",
              "    <tr>\n",
              "      <th>Atlanta</th>\n",
              "      <td>523738</td>\n",
              "      <td>136.80</td>\n",
              "    </tr>\n",
              "    <tr>\n",
              "      <th>New York City</th>\n",
              "      <td>18804000</td>\n",
              "      <td>302.60</td>\n",
              "    </tr>\n",
              "    <tr>\n",
              "      <th>Boston</th>\n",
              "      <td>4309000</td>\n",
              "      <td>89.63</td>\n",
              "    </tr>\n",
              "  </tbody>\n",
              "</table>\n",
              "</div>"
            ],
            "text/plain": [
              "               Population  Size in miles squared\n",
              "Atlanta            523738                 136.80\n",
              "New York City    18804000                 302.60\n",
              "Boston            4309000                  89.63"
            ]
          },
          "metadata": {
            "tags": []
          },
          "execution_count": 88
        }
      ]
    },
    {
      "cell_type": "markdown",
      "metadata": {
        "id": "NFfcZCygIRab"
      },
      "source": [
        "*We can also select rows and columns based on a boolean condition, which can be used with either the [] operator or .loc operator*\n"
      ]
    },
    {
      "cell_type": "code",
      "metadata": {
        "id": "Dg3Qo35dIfYt",
        "outputId": "80ce3672-ef21-4f70-d9f8-1fb1744c7ed5",
        "colab": {
          "base_uri": "https://localhost:8080/",
          "height": 111
        }
      },
      "source": [
        "df[(df['Population'] > 1000000) & (df['Size in miles squared'] > 100) ]"
      ],
      "execution_count": null,
      "outputs": [
        {
          "output_type": "execute_result",
          "data": {
            "text/html": [
              "<div>\n",
              "<style scoped>\n",
              "    .dataframe tbody tr th:only-of-type {\n",
              "        vertical-align: middle;\n",
              "    }\n",
              "\n",
              "    .dataframe tbody tr th {\n",
              "        vertical-align: top;\n",
              "    }\n",
              "\n",
              "    .dataframe thead th {\n",
              "        text-align: right;\n",
              "    }\n",
              "</style>\n",
              "<table border=\"1\" class=\"dataframe\">\n",
              "  <thead>\n",
              "    <tr style=\"text-align: right;\">\n",
              "      <th></th>\n",
              "      <th>State</th>\n",
              "      <th>Population</th>\n",
              "      <th>Size in miles squared</th>\n",
              "    </tr>\n",
              "  </thead>\n",
              "  <tbody>\n",
              "    <tr>\n",
              "      <th>New York City</th>\n",
              "      <td>New York</td>\n",
              "      <td>18804000</td>\n",
              "      <td>302.6</td>\n",
              "    </tr>\n",
              "    <tr>\n",
              "      <th>Chicago</th>\n",
              "      <td>Illinois</td>\n",
              "      <td>8865000</td>\n",
              "      <td>234.0</td>\n",
              "    </tr>\n",
              "  </tbody>\n",
              "</table>\n",
              "</div>"
            ],
            "text/plain": [
              "                  State  Population  Size in miles squared\n",
              "New York City  New York    18804000                  302.6\n",
              "Chicago        Illinois     8865000                  234.0"
            ]
          },
          "metadata": {
            "tags": []
          },
          "execution_count": 89
        }
      ]
    },
    {
      "cell_type": "markdown",
      "metadata": {
        "id": "PfsRJgmsJcdv"
      },
      "source": [
        "The df.loc requires you to specify the columns you want for boolean expressions\n"
      ]
    },
    {
      "cell_type": "code",
      "metadata": {
        "id": "SSiQgvXQJJKc",
        "outputId": "6f2b6e75-2de4-4a1e-9eaf-a21848a56883",
        "colab": {
          "base_uri": "https://localhost:8080/"
        }
      },
      "source": [
        "df.loc[(df['Population'] > 1000000) & (df['Size in miles squared'] > 100), 'Population']"
      ],
      "execution_count": null,
      "outputs": [
        {
          "output_type": "execute_result",
          "data": {
            "text/plain": [
              "New York City    18804000\n",
              "Chicago           8865000\n",
              "Name: Population, dtype: int64"
            ]
          },
          "metadata": {
            "tags": []
          },
          "execution_count": 90
        }
      ]
    },
    {
      "cell_type": "markdown",
      "metadata": {
        "id": "Ki-ZPayMSrlQ"
      },
      "source": [
        "**4. What is sorting for categorical variables in pandas DataFrame based on?**"
      ]
    },
    {
      "cell_type": "markdown",
      "metadata": {
        "id": "x9zUeWErT9V8"
      },
      "source": [
        "Sorting for categorical variables in pandas DataFrame is based on how you define categories, and you can use boolean to do so.\n",
        "\n",
        "\n",
        "\n"
      ]
    },
    {
      "cell_type": "markdown",
      "metadata": {
        "id": "Res_JffTVA4e"
      },
      "source": [
        "**5. Create a pandas DataFrame containing three columns of randomly generated data. Plot the cumulative sum of each column with labels.**"
      ]
    },
    {
      "cell_type": "code",
      "metadata": {
        "id": "kAKZRRBPVVeN",
        "outputId": "938277a6-c71c-4158-ba79-728904d7460d",
        "colab": {
          "base_uri": "https://localhost:8080/",
          "height": 235
        }
      },
      "source": [
        "dates = pd.date_range('20201001', periods=6)\n",
        "\n",
        "df1= pd.DataFrame(np.random.randn(6,3), index=dates, columns=list('abc'))\n",
        "df1"
      ],
      "execution_count": 3,
      "outputs": [
        {
          "output_type": "execute_result",
          "data": {
            "text/html": [
              "<div>\n",
              "<style scoped>\n",
              "    .dataframe tbody tr th:only-of-type {\n",
              "        vertical-align: middle;\n",
              "    }\n",
              "\n",
              "    .dataframe tbody tr th {\n",
              "        vertical-align: top;\n",
              "    }\n",
              "\n",
              "    .dataframe thead th {\n",
              "        text-align: right;\n",
              "    }\n",
              "</style>\n",
              "<table border=\"1\" class=\"dataframe\">\n",
              "  <thead>\n",
              "    <tr style=\"text-align: right;\">\n",
              "      <th></th>\n",
              "      <th>a</th>\n",
              "      <th>b</th>\n",
              "      <th>c</th>\n",
              "    </tr>\n",
              "  </thead>\n",
              "  <tbody>\n",
              "    <tr>\n",
              "      <th>2020-10-01</th>\n",
              "      <td>0.182912</td>\n",
              "      <td>-1.793998</td>\n",
              "      <td>-1.989147</td>\n",
              "    </tr>\n",
              "    <tr>\n",
              "      <th>2020-10-02</th>\n",
              "      <td>-0.232247</td>\n",
              "      <td>1.096225</td>\n",
              "      <td>-0.824268</td>\n",
              "    </tr>\n",
              "    <tr>\n",
              "      <th>2020-10-03</th>\n",
              "      <td>0.886395</td>\n",
              "      <td>-1.516519</td>\n",
              "      <td>0.764956</td>\n",
              "    </tr>\n",
              "    <tr>\n",
              "      <th>2020-10-04</th>\n",
              "      <td>-0.738143</td>\n",
              "      <td>-0.081811</td>\n",
              "      <td>1.256061</td>\n",
              "    </tr>\n",
              "    <tr>\n",
              "      <th>2020-10-05</th>\n",
              "      <td>0.396018</td>\n",
              "      <td>-0.669666</td>\n",
              "      <td>-0.083388</td>\n",
              "    </tr>\n",
              "    <tr>\n",
              "      <th>2020-10-06</th>\n",
              "      <td>-1.080680</td>\n",
              "      <td>1.203927</td>\n",
              "      <td>-1.022988</td>\n",
              "    </tr>\n",
              "  </tbody>\n",
              "</table>\n",
              "</div>"
            ],
            "text/plain": [
              "                   a         b         c\n",
              "2020-10-01  0.182912 -1.793998 -1.989147\n",
              "2020-10-02 -0.232247  1.096225 -0.824268\n",
              "2020-10-03  0.886395 -1.516519  0.764956\n",
              "2020-10-04 -0.738143 -0.081811  1.256061\n",
              "2020-10-05  0.396018 -0.669666 -0.083388\n",
              "2020-10-06 -1.080680  1.203927 -1.022988"
            ]
          },
          "metadata": {
            "tags": []
          },
          "execution_count": 3
        }
      ]
    },
    {
      "cell_type": "code",
      "metadata": {
        "id": "D7MSxRRhbdNO",
        "outputId": "79461182-171b-46ab-8cff-a7d2b422c289",
        "colab": {
          "base_uri": "https://localhost:8080/",
          "height": 235
        }
      },
      "source": [
        "df1.cumsum()"
      ],
      "execution_count": null,
      "outputs": [
        {
          "output_type": "execute_result",
          "data": {
            "text/html": [
              "<div>\n",
              "<style scoped>\n",
              "    .dataframe tbody tr th:only-of-type {\n",
              "        vertical-align: middle;\n",
              "    }\n",
              "\n",
              "    .dataframe tbody tr th {\n",
              "        vertical-align: top;\n",
              "    }\n",
              "\n",
              "    .dataframe thead th {\n",
              "        text-align: right;\n",
              "    }\n",
              "</style>\n",
              "<table border=\"1\" class=\"dataframe\">\n",
              "  <thead>\n",
              "    <tr style=\"text-align: right;\">\n",
              "      <th></th>\n",
              "      <th>a</th>\n",
              "      <th>b</th>\n",
              "      <th>c</th>\n",
              "    </tr>\n",
              "  </thead>\n",
              "  <tbody>\n",
              "    <tr>\n",
              "      <th>2020-10-01</th>\n",
              "      <td>0.437366</td>\n",
              "      <td>0.027066</td>\n",
              "      <td>1.060701</td>\n",
              "    </tr>\n",
              "    <tr>\n",
              "      <th>2020-10-02</th>\n",
              "      <td>0.842973</td>\n",
              "      <td>0.890918</td>\n",
              "      <td>1.475862</td>\n",
              "    </tr>\n",
              "    <tr>\n",
              "      <th>2020-10-03</th>\n",
              "      <td>0.584768</td>\n",
              "      <td>1.117447</td>\n",
              "      <td>1.490997</td>\n",
              "    </tr>\n",
              "    <tr>\n",
              "      <th>2020-10-04</th>\n",
              "      <td>-0.602453</td>\n",
              "      <td>1.464925</td>\n",
              "      <td>-0.090724</td>\n",
              "    </tr>\n",
              "    <tr>\n",
              "      <th>2020-10-05</th>\n",
              "      <td>-0.205528</td>\n",
              "      <td>1.746175</td>\n",
              "      <td>0.038090</td>\n",
              "    </tr>\n",
              "    <tr>\n",
              "      <th>2020-10-06</th>\n",
              "      <td>-0.781498</td>\n",
              "      <td>1.461806</td>\n",
              "      <td>-1.032917</td>\n",
              "    </tr>\n",
              "  </tbody>\n",
              "</table>\n",
              "</div>"
            ],
            "text/plain": [
              "                   a         b         c\n",
              "2020-10-01  0.437366  0.027066  1.060701\n",
              "2020-10-02  0.842973  0.890918  1.475862\n",
              "2020-10-03  0.584768  1.117447  1.490997\n",
              "2020-10-04 -0.602453  1.464925 -0.090724\n",
              "2020-10-05 -0.205528  1.746175  0.038090\n",
              "2020-10-06 -0.781498  1.461806 -1.032917"
            ]
          },
          "metadata": {
            "tags": []
          },
          "execution_count": 93
        }
      ]
    },
    {
      "cell_type": "markdown",
      "metadata": {
        "id": "AKEjY7HPb03F"
      },
      "source": [
        "**6. List the age of each gender with the highest weight from the following DataFrame.**"
      ]
    },
    {
      "cell_type": "code",
      "metadata": {
        "id": "Zab7wXVYb_dO"
      },
      "source": [
        "df2 = pd.DataFrame({'Name': 'Alex Tom Steve Clarke Sarah'.split(),\n",
        "                   'Age': [23, 18, 30, 20, 45],\n",
        "                   'weight': [151, 140, 180, 124, 120],\n",
        "                   'Gender': ['Male'] * 3 + ['Female'] * 2})\n"
      ],
      "execution_count": 5,
      "outputs": []
    },
    {
      "cell_type": "code",
      "metadata": {
        "id": "kGwHHG_0eyYh",
        "outputId": "d7e4d68d-6e38-4a5b-f802-80dafd37053b",
        "colab": {
          "base_uri": "https://localhost:8080/",
          "height": 204
        }
      },
      "source": [
        "df3 = df2.sort_values(by=['weight', 'Gender'], ascending=False)\n",
        "df3"
      ],
      "execution_count": 6,
      "outputs": [
        {
          "output_type": "execute_result",
          "data": {
            "text/html": [
              "<div>\n",
              "<style scoped>\n",
              "    .dataframe tbody tr th:only-of-type {\n",
              "        vertical-align: middle;\n",
              "    }\n",
              "\n",
              "    .dataframe tbody tr th {\n",
              "        vertical-align: top;\n",
              "    }\n",
              "\n",
              "    .dataframe thead th {\n",
              "        text-align: right;\n",
              "    }\n",
              "</style>\n",
              "<table border=\"1\" class=\"dataframe\">\n",
              "  <thead>\n",
              "    <tr style=\"text-align: right;\">\n",
              "      <th></th>\n",
              "      <th>Name</th>\n",
              "      <th>Age</th>\n",
              "      <th>weight</th>\n",
              "      <th>Gender</th>\n",
              "    </tr>\n",
              "  </thead>\n",
              "  <tbody>\n",
              "    <tr>\n",
              "      <th>2</th>\n",
              "      <td>Steve</td>\n",
              "      <td>30</td>\n",
              "      <td>180</td>\n",
              "      <td>Male</td>\n",
              "    </tr>\n",
              "    <tr>\n",
              "      <th>0</th>\n",
              "      <td>Alex</td>\n",
              "      <td>23</td>\n",
              "      <td>151</td>\n",
              "      <td>Male</td>\n",
              "    </tr>\n",
              "    <tr>\n",
              "      <th>1</th>\n",
              "      <td>Tom</td>\n",
              "      <td>18</td>\n",
              "      <td>140</td>\n",
              "      <td>Male</td>\n",
              "    </tr>\n",
              "    <tr>\n",
              "      <th>3</th>\n",
              "      <td>Clarke</td>\n",
              "      <td>20</td>\n",
              "      <td>124</td>\n",
              "      <td>Female</td>\n",
              "    </tr>\n",
              "    <tr>\n",
              "      <th>4</th>\n",
              "      <td>Sarah</td>\n",
              "      <td>45</td>\n",
              "      <td>120</td>\n",
              "      <td>Female</td>\n",
              "    </tr>\n",
              "  </tbody>\n",
              "</table>\n",
              "</div>"
            ],
            "text/plain": [
              "     Name  Age  weight  Gender\n",
              "2   Steve   30     180    Male\n",
              "0    Alex   23     151    Male\n",
              "1     Tom   18     140    Male\n",
              "3  Clarke   20     124  Female\n",
              "4   Sarah   45     120  Female"
            ]
          },
          "metadata": {
            "tags": []
          },
          "execution_count": 6
        }
      ]
    },
    {
      "cell_type": "code",
      "metadata": {
        "id": "qjEOy8WGuzjs",
        "outputId": "e8784c0d-a327-4e73-807d-7fbfed686130",
        "colab": {
          "base_uri": "https://localhost:8080/",
          "height": 0
        }
      },
      "source": [
        "#To ensure we are picking the correct data for the highest weight for each gender\n",
        "df3.groupby('Gender')['weight'].max()"
      ],
      "execution_count": 9,
      "outputs": [
        {
          "output_type": "execute_result",
          "data": {
            "text/plain": [
              "Gender\n",
              "Female    124\n",
              "Male      180\n",
              "Name: weight, dtype: int64"
            ]
          },
          "metadata": {
            "tags": []
          },
          "execution_count": 9
        }
      ]
    },
    {
      "cell_type": "code",
      "metadata": {
        "id": "dwyHZnbuoQtt",
        "outputId": "dd17b02d-07bf-4cd9-97c4-0cf3d8ce592f",
        "colab": {
          "base_uri": "https://localhost:8080/",
          "height": 0
        }
      },
      "source": [
        "df3.loc[[2,3], 'Age']"
      ],
      "execution_count": 7,
      "outputs": [
        {
          "output_type": "execute_result",
          "data": {
            "text/plain": [
              "2    30\n",
              "3    20\n",
              "Name: Age, dtype: int64"
            ]
          },
          "metadata": {
            "tags": []
          },
          "execution_count": 7
        }
      ]
    },
    {
      "cell_type": "markdown",
      "metadata": {
        "id": "0gCAzHILiSKU"
      },
      "source": [
        "**7. Replace the weight values higher than 150 with the mean value of weights in the DataFrame from the previous question.**"
      ]
    },
    {
      "cell_type": "code",
      "metadata": {
        "id": "TBtEVVqxiaGs",
        "outputId": "e81aa2a2-039d-450d-a56e-0cf21e143ace",
        "colab": {
          "base_uri": "https://localhost:8080/",
          "height": 204
        }
      },
      "source": [
        "df2.loc[df2['weight'] > 150, 'weight'] = df2['weight'].mean()\n",
        "df2"
      ],
      "execution_count": 11,
      "outputs": [
        {
          "output_type": "execute_result",
          "data": {
            "text/html": [
              "<div>\n",
              "<style scoped>\n",
              "    .dataframe tbody tr th:only-of-type {\n",
              "        vertical-align: middle;\n",
              "    }\n",
              "\n",
              "    .dataframe tbody tr th {\n",
              "        vertical-align: top;\n",
              "    }\n",
              "\n",
              "    .dataframe thead th {\n",
              "        text-align: right;\n",
              "    }\n",
              "</style>\n",
              "<table border=\"1\" class=\"dataframe\">\n",
              "  <thead>\n",
              "    <tr style=\"text-align: right;\">\n",
              "      <th></th>\n",
              "      <th>Name</th>\n",
              "      <th>Age</th>\n",
              "      <th>weight</th>\n",
              "      <th>Gender</th>\n",
              "    </tr>\n",
              "  </thead>\n",
              "  <tbody>\n",
              "    <tr>\n",
              "      <th>0</th>\n",
              "      <td>Alex</td>\n",
              "      <td>23</td>\n",
              "      <td>143.0</td>\n",
              "      <td>Male</td>\n",
              "    </tr>\n",
              "    <tr>\n",
              "      <th>1</th>\n",
              "      <td>Tom</td>\n",
              "      <td>18</td>\n",
              "      <td>140.0</td>\n",
              "      <td>Male</td>\n",
              "    </tr>\n",
              "    <tr>\n",
              "      <th>2</th>\n",
              "      <td>Steve</td>\n",
              "      <td>30</td>\n",
              "      <td>143.0</td>\n",
              "      <td>Male</td>\n",
              "    </tr>\n",
              "    <tr>\n",
              "      <th>3</th>\n",
              "      <td>Clarke</td>\n",
              "      <td>20</td>\n",
              "      <td>124.0</td>\n",
              "      <td>Female</td>\n",
              "    </tr>\n",
              "    <tr>\n",
              "      <th>4</th>\n",
              "      <td>Sarah</td>\n",
              "      <td>45</td>\n",
              "      <td>120.0</td>\n",
              "      <td>Female</td>\n",
              "    </tr>\n",
              "  </tbody>\n",
              "</table>\n",
              "</div>"
            ],
            "text/plain": [
              "     Name  Age  weight  Gender\n",
              "0    Alex   23   143.0    Male\n",
              "1     Tom   18   140.0    Male\n",
              "2   Steve   30   143.0    Male\n",
              "3  Clarke   20   124.0  Female\n",
              "4   Sarah   45   120.0  Female"
            ]
          },
          "metadata": {
            "tags": []
          },
          "execution_count": 11
        }
      ]
    },
    {
      "cell_type": "markdown",
      "metadata": {
        "id": "IuxF1IJuw0Cv"
      },
      "source": [
        "**8. Create a value counts column and reassign back to the following DataFrame.**"
      ]
    },
    {
      "cell_type": "code",
      "metadata": {
        "id": "-NrXzFq1w5ke",
        "outputId": "1a6614c5-de47-4305-f442-b182a40d1bc8",
        "colab": {
          "base_uri": "https://localhost:8080/",
          "height": 204
        }
      },
      "source": [
        "df4 = pd.DataFrame({'Animal': 'cat dog dog dog fish'.split(),\n",
        "                 'weight': [8, 10, 12, 11, 2]})\n",
        "\n",
        "z=pd.DataFrame(df4.value_counts().reset_index(name='count'))\n",
        "z"
      ],
      "execution_count": 12,
      "outputs": [
        {
          "output_type": "execute_result",
          "data": {
            "text/html": [
              "<div>\n",
              "<style scoped>\n",
              "    .dataframe tbody tr th:only-of-type {\n",
              "        vertical-align: middle;\n",
              "    }\n",
              "\n",
              "    .dataframe tbody tr th {\n",
              "        vertical-align: top;\n",
              "    }\n",
              "\n",
              "    .dataframe thead th {\n",
              "        text-align: right;\n",
              "    }\n",
              "</style>\n",
              "<table border=\"1\" class=\"dataframe\">\n",
              "  <thead>\n",
              "    <tr style=\"text-align: right;\">\n",
              "      <th></th>\n",
              "      <th>Animal</th>\n",
              "      <th>weight</th>\n",
              "      <th>count</th>\n",
              "    </tr>\n",
              "  </thead>\n",
              "  <tbody>\n",
              "    <tr>\n",
              "      <th>0</th>\n",
              "      <td>fish</td>\n",
              "      <td>2</td>\n",
              "      <td>1</td>\n",
              "    </tr>\n",
              "    <tr>\n",
              "      <th>1</th>\n",
              "      <td>dog</td>\n",
              "      <td>12</td>\n",
              "      <td>1</td>\n",
              "    </tr>\n",
              "    <tr>\n",
              "      <th>2</th>\n",
              "      <td>dog</td>\n",
              "      <td>11</td>\n",
              "      <td>1</td>\n",
              "    </tr>\n",
              "    <tr>\n",
              "      <th>3</th>\n",
              "      <td>dog</td>\n",
              "      <td>10</td>\n",
              "      <td>1</td>\n",
              "    </tr>\n",
              "    <tr>\n",
              "      <th>4</th>\n",
              "      <td>cat</td>\n",
              "      <td>8</td>\n",
              "      <td>1</td>\n",
              "    </tr>\n",
              "  </tbody>\n",
              "</table>\n",
              "</div>"
            ],
            "text/plain": [
              "  Animal  weight  count\n",
              "0   fish       2      1\n",
              "1    dog      12      1\n",
              "2    dog      11      1\n",
              "3    dog      10      1\n",
              "4    cat       8      1"
            ]
          },
          "metadata": {
            "tags": []
          },
          "execution_count": 12
        }
      ]
    }
  ]
}